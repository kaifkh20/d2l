{
  "nbformat": 4,
  "nbformat_minor": 0,
  "metadata": {
    "colab": {
      "provenance": [],
      "authorship_tag": "ABX9TyPjllI1A+Q53z9Un4Br6++0",
      "include_colab_link": true
    },
    "kernelspec": {
      "name": "python3",
      "display_name": "Python 3"
    },
    "language_info": {
      "name": "python"
    }
  },
  "cells": [
    {
      "cell_type": "markdown",
      "metadata": {
        "id": "view-in-github",
        "colab_type": "text"
      },
      "source": [
        "<a href=\"https://colab.research.google.com/github/kaifkh20/d2l/blob/main/d2lch2_5.ipynb\" target=\"_parent\"><img src=\"https://colab.research.google.com/assets/colab-badge.svg\" alt=\"Open In Colab\"/></a>"
      ]
    },
    {
      "cell_type": "code",
      "execution_count": 1,
      "metadata": {
        "id": "yr4u0Nh-3CeE"
      },
      "outputs": [],
      "source": [
        "import tensorflow as tf"
      ]
    },
    {
      "cell_type": "code",
      "source": [
        "# y = 2x^2 where x is a column factor\n",
        "x = tf.range(4,dtype=tf.float32)\n",
        "# tensors are immutable whereas variables are mutable thats why its better to use variable\n",
        "x = tf.Variable(x)\n",
        "x"
      ],
      "metadata": {
        "colab": {
          "base_uri": "https://localhost:8080/"
        },
        "id": "Mz4N9tx53H8H",
        "outputId": "b3611e05-2189-49d2-e7ee-1452749bc8aa"
      },
      "execution_count": 8,
      "outputs": [
        {
          "output_type": "execute_result",
          "data": {
            "text/plain": [
              "<tf.Variable 'Variable:0' shape=(4,) dtype=float32, numpy=array([0., 1., 2., 3.], dtype=float32)>"
            ]
          },
          "metadata": {},
          "execution_count": 8
        }
      ]
    },
    {
      "cell_type": "code",
      "source": [
        "# y = 2x.x\n",
        "with tf.GradientTape() as t:\n",
        "  y = 2*tf.tensordot(x,x,axes=1)\n",
        "\n",
        "# now the gradient or differentiation\n",
        "x_grad = t.gradient(y,x)\n",
        "y , x_grad\n",
        "# here y = sum[i=1->n](diff(2x(i)^2)))"
      ],
      "metadata": {
        "colab": {
          "base_uri": "https://localhost:8080/"
        },
        "id": "2x2nQGic3VQR",
        "outputId": "77ebdb99-61db-4574-b5d2-9a1f4f1b1174"
      },
      "execution_count": 9,
      "outputs": [
        {
          "output_type": "execute_result",
          "data": {
            "text/plain": [
              "(<tf.Tensor: shape=(), dtype=float32, numpy=28.0>,\n",
              " <tf.Tensor: shape=(4,), dtype=float32, numpy=array([ 0.,  4.,  8., 12.], dtype=float32)>)"
            ]
          },
          "metadata": {},
          "execution_count": 9
        }
      ]
    },
    {
      "cell_type": "code",
      "source": [
        "x_grad == 4*x"
      ],
      "metadata": {
        "colab": {
          "base_uri": "https://localhost:8080/"
        },
        "id": "_Oez7c8f4LrO",
        "outputId": "3168b8ce-54ed-473a-f236-ccdea05bdada"
      },
      "execution_count": 10,
      "outputs": [
        {
          "output_type": "execute_result",
          "data": {
            "text/plain": [
              "<tf.Tensor: shape=(4,), dtype=bool, numpy=array([ True,  True,  True,  True])>"
            ]
          },
          "metadata": {},
          "execution_count": 10
        }
      ]
    },
    {
      "cell_type": "code",
      "source": [
        "# now y = x\n",
        "with tf.GradientTape() as t:\n",
        "   y = tf.reduce_sum(x)\n",
        "t.gradient(y,x)"
      ],
      "metadata": {
        "colab": {
          "base_uri": "https://localhost:8080/"
        },
        "id": "_r2AQ0JE5Vqc",
        "outputId": "58a3fbbb-e501-4505-a3c2-5e711cab61c8"
      },
      "execution_count": 12,
      "outputs": [
        {
          "output_type": "execute_result",
          "data": {
            "text/plain": [
              "<tf.Tensor: shape=(4,), dtype=float32, numpy=array([1., 1., 1., 1.], dtype=float32)>"
            ]
          },
          "metadata": {},
          "execution_count": 12
        }
      ]
    },
    {
      "cell_type": "code",
      "source": [
        "# read about backward for non scalar variables 2.5.2\n",
        "with tf.GradientTape() as t:\n",
        "    y = x * x\n",
        "t.gradient(y, x)  # Same as y = tf.reduce_sum(x * x)\n"
      ],
      "metadata": {
        "colab": {
          "base_uri": "https://localhost:8080/"
        },
        "id": "itDCjIMI5pPO",
        "outputId": "790f5151-477d-429a-f261-4bfa5a00d9a4"
      },
      "execution_count": 13,
      "outputs": [
        {
          "output_type": "execute_result",
          "data": {
            "text/plain": [
              "<tf.Tensor: shape=(4,), dtype=float32, numpy=array([0., 2., 4., 6.], dtype=float32)>"
            ]
          },
          "metadata": {},
          "execution_count": 13
        }
      ]
    },
    {
      "cell_type": "code",
      "source": [
        "# Set persistent=True to preserve the compute graph.\n",
        "# This lets us run t.gradient more than once\n",
        "\n",
        "# suppose we want to do z = x*y and y = x*x\n",
        "# but we want to know the the influence of x directly on z not via y\n",
        "# we create a aux term u of which we dont want to create a gradient\n",
        "\n",
        "with tf.GradientTape(persistent=True) as t:\n",
        "    y = x * x\n",
        "    u = tf.stop_gradient(y)\n",
        "    z = u * x\n",
        "\n",
        "x_grad = t.gradient(z, x)\n",
        "x_grad == u\n"
      ],
      "metadata": {
        "colab": {
          "base_uri": "https://localhost:8080/"
        },
        "id": "5Ly315Yh9SRX",
        "outputId": "aa59e969-e157-47ed-db0b-647ae2752767"
      },
      "execution_count": 15,
      "outputs": [
        {
          "output_type": "execute_result",
          "data": {
            "text/plain": [
              "<tf.Tensor: shape=(4,), dtype=bool, numpy=array([ True,  True,  True,  True])>"
            ]
          },
          "metadata": {},
          "execution_count": 15
        }
      ]
    },
    {
      "cell_type": "code",
      "source": [],
      "metadata": {
        "id": "wRBtAq4U9j2R"
      },
      "execution_count": null,
      "outputs": []
    }
  ]
}