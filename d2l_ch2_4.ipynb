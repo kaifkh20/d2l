{
  "nbformat": 4,
  "nbformat_minor": 0,
  "metadata": {
    "colab": {
      "provenance": [],
      "authorship_tag": "ABX9TyMVRwLjAXc9nPGCw4+TI4+/"
    },
    "kernelspec": {
      "name": "python3",
      "display_name": "Python 3"
    },
    "language_info": {
      "name": "python"
    }
  },
  "cells": [
    {
      "cell_type": "code",
      "execution_count": 3,
      "metadata": {
        "id": "r9X_W-s-tfmb"
      },
      "outputs": [],
      "source": [
        "import tensorflow as tf\n",
        "import numpy as np"
      ]
    },
    {
      "cell_type": "code",
      "source": [
        "# 3x^2 - 4x\n",
        "def f(x):\n",
        "  return (3*(x ** 2))-4*x"
      ],
      "metadata": {
        "id": "LXohc2rUt2om"
      },
      "execution_count": 2,
      "outputs": []
    },
    {
      "cell_type": "code",
      "source": [
        "# limit h->0\n",
        "# f(x+h)-f(x)/h\n",
        "# for x = 1 we can see that f(x) is =2 now we test it with our function\n",
        "\n",
        "# 10^-1 10^-2 10^-3 ...\n",
        "\n",
        "for h in 10.0**np.arange(-1,-6,-1):\n",
        "  print(f'h={h:.5f}, numerical limit={(f(1+h)-f(1))/h:.5f}')"
      ],
      "metadata": {
        "colab": {
          "base_uri": "https://localhost:8080/"
        },
        "id": "DgfGTHkOuJtP",
        "outputId": "f827c7ba-6d12-4706-8430-d6a589230f3b"
      },
      "execution_count": 4,
      "outputs": [
        {
          "output_type": "stream",
          "name": "stdout",
          "text": [
            "h=0.10000, numerical limit=2.30000\n",
            "h=0.01000, numerical limit=2.03000\n",
            "h=0.00100, numerical limit=2.00300\n",
            "h=0.00010, numerical limit=2.00030\n",
            "h=0.00001, numerical limit=2.00003\n"
          ]
        }
      ]
    },
    {
      "cell_type": "code",
      "source": [],
      "metadata": {
        "id": "rNEo5Nj-u_FS"
      },
      "execution_count": null,
      "outputs": []
    }
  ]
}