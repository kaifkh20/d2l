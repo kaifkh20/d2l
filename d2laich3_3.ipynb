{
  "nbformat": 4,
  "nbformat_minor": 0,
  "metadata": {
    "colab": {
      "provenance": [],
      "authorship_tag": "ABX9TyMCoovVghORnx4s8/3rEKZb",
      "include_colab_link": true
    },
    "kernelspec": {
      "name": "python3",
      "display_name": "Python 3"
    },
    "language_info": {
      "name": "python"
    }
  },
  "cells": [
    {
      "cell_type": "markdown",
      "metadata": {
        "id": "view-in-github",
        "colab_type": "text"
      },
      "source": [
        "<a href=\"https://colab.research.google.com/github/kaifkh20/d2l/blob/main/d2laich3_3.ipynb\" target=\"_parent\"><img src=\"https://colab.research.google.com/assets/colab-badge.svg\" alt=\"Open In Colab\"/></a>"
      ]
    },
    {
      "cell_type": "code",
      "execution_count": 1,
      "metadata": {
        "id": "d9y8NFjseeRy"
      },
      "outputs": [],
      "source": [
        "# !pip install d2l\n",
        "%matplotlib inline\n",
        "import random\n",
        "import torch\n",
        "from d2l import torch as d2l\n"
      ]
    },
    {
      "cell_type": "code",
      "source": [
        "class SyntheticRegressionData(d2l.DataModule):\n",
        "    \"\"\"Synthetic data for linear regression.\"\"\"\n",
        "    def __init__(self, w, b, noise=0.01, num_train=1000 ,num_val=1000,\n",
        "                 batch_size=32):\n",
        "        super().__init__()\n",
        "        self.save_hyperparameters()\n",
        "        n = num_train + num_val\n",
        "        self.X = torch.randn(n, len(w))\n",
        "        noise = torch.randn(n, 1) * noise\n",
        "        self.y = torch.matmul(self.X, w.reshape((-1, 1))) + b + noise\n",
        "\n",
        "data = SyntheticRegressionData(w=torch.tensor([2, -3.4]), b=4.2)\n",
        "# data.w,data.X, data.y\n"
      ],
      "metadata": {
        "id": "lbtzeuHKewvB"
      },
      "execution_count": 2,
      "outputs": []
    },
    {
      "cell_type": "code",
      "source": [
        "print('features:', data.X[0],'\\nlabel:', data.y[0])\n"
      ],
      "metadata": {
        "colab": {
          "base_uri": "https://localhost:8080/"
        },
        "id": "ldBd8MWFfc6I",
        "outputId": "95cf275a-f24a-482b-c68a-06227681547d"
      },
      "execution_count": 3,
      "outputs": [
        {
          "output_type": "stream",
          "name": "stdout",
          "text": [
            "features: tensor([1.3110, 1.4650]) \n",
            "label: tensor([1.8469])\n"
          ]
        }
      ]
    },
    {
      "cell_type": "code",
      "source": [
        "@d2l.add_to_class(SyntheticRegressionData)\n",
        "def get_dataloader(self, train):\n",
        "    if train:\n",
        "        indices = list(range(0, self.num_train))\n",
        "        # The examples are read in random order\n",
        "        random.shuffle(indices)\n",
        "    else:\n",
        "      # examples are read in squential manner in batches\n",
        "        indices = list(range(self.num_train, self.num_train+self.num_val))\n",
        "    for i in range(0, len(indices), self.batch_size):\n",
        "        batch_indices = torch.tensor(indices[i: i+self.batch_size])\n",
        "        yield self.X[batch_indices], self.y[batch_indices]\n"
      ],
      "metadata": {
        "id": "U1r2v4lEgeYC"
      },
      "execution_count": 4,
      "outputs": []
    },
    {
      "cell_type": "code",
      "source": [
        "X, y = next(iter(data.train_dataloader()))\n",
        "print('X shape:', X.shape, '\\ny shape:', y.shape)\n",
        "# X, y"
      ],
      "metadata": {
        "colab": {
          "base_uri": "https://localhost:8080/"
        },
        "id": "8ef7FrzJhHTj",
        "outputId": "97920d7c-0614-422e-da47-db46c98a3c54"
      },
      "execution_count": 5,
      "outputs": [
        {
          "output_type": "stream",
          "name": "stdout",
          "text": [
            "X shape: torch.Size([32, 2]) \n",
            "y shape: torch.Size([32, 1])\n"
          ]
        }
      ]
    },
    {
      "cell_type": "code",
      "source": [
        "@d2l.add_to_class(d2l.DataModule)\n",
        "def get_tensorloader(self, tensors, train, indices=slice(0, None)):\n",
        "    tensors = tuple(a[indices] for a in tensors)\n",
        "    dataset = torch.utils.data.TensorDataset(*tensors)\n",
        "    return torch.utils.data.DataLoader(dataset, self.batch_size,\n",
        "                                       shuffle=train)\n",
        "\n",
        "@d2l.add_to_class(SyntheticRegressionData)\n",
        "def get_dataloader(self, train):\n",
        "    i = slice(0, self.num_train) if train else slice(self.num_train, None)\n",
        "    return self.get_tensorloader((self.X, self.y), train, i)\n"
      ],
      "metadata": {
        "id": "6P6ppZWThUdZ"
      },
      "execution_count": 14,
      "outputs": []
    },
    {
      "cell_type": "code",
      "source": [
        "#train_dataloader meaning trainingset data\n",
        "# val meaning validateset data\n",
        "\n",
        "X, y = next(iter(data.train_dataloader()))\n",
        "print('X shape:', X.shape, '\\ny shape:', y.shape)\n"
      ],
      "metadata": {
        "colab": {
          "base_uri": "https://localhost:8080/"
        },
        "id": "Jh0BeKEviaLV",
        "outputId": "2fe438d0-2425-4dcf-d543-3f17f9028465"
      },
      "execution_count": 15,
      "outputs": [
        {
          "output_type": "stream",
          "name": "stdout",
          "text": [
            "X shape: torch.Size([32, 2]) \n",
            "y shape: torch.Size([32, 1])\n"
          ]
        }
      ]
    },
    {
      "cell_type": "code",
      "source": [
        "# ex 3.3.1\n",
        "\n",
        "# ?torch.utils.data.DataLoader\n",
        "\n",
        "# set the drop = True so it drops the incomplete batch\n",
        "@d2l.add_to_class(d2l.DataModule)\n",
        "def get_tensorloader(self, tensors, train, indices=slice(0, None)):\n",
        "    tensors = tuple(a[indices] for a in tensors)\n",
        "    dataset = torch.utils.data.TensorDataset(*tensors)\n",
        "    return torch.utils.data.DataLoader(dataset, self.batch_size,\n",
        "                                       shuffle=train,drop=True)\n",
        "\n",
        "@d2l.add_to_class(SyntheticRegressionData)\n",
        "def get_dataloader(self, train):\n",
        "    i = slice(0, self.num_train) if train else slice(self.num_train, None)\n",
        "    return self.get_tensorloader((self.X, self.y), train, i)\n"
      ],
      "metadata": {
        "id": "KW0x-BF3ifPB"
      },
      "execution_count": 16,
      "outputs": []
    },
    {
      "cell_type": "code",
      "source": [
        "class SyntheticRegressionData_onTheFly(d2l.HyperParameters):\n",
        "    def __init__(self, w, b, noise=0.01, batch_size=8):\n",
        "        self.save_hyperparameters()\n",
        "        self.w = self.w.reshape((-1, 1))\n",
        "    def get_dataloader(self):\n",
        "        X = torch.randn(self.batch_size, len(self.w))\n",
        "        noise_tmp = torch.randn(self.batch_size, 1) * self.noise\n",
        "        y = torch.matmul(X, self.w) + self.b + noise_tmp\n",
        "        return X, y\n",
        "\n",
        "test = SyntheticRegressionData_onTheFly(w=torch.tensor([1., -2.]), b=3.)\n",
        "print(test.get_dataloader()[0],'\\n',test.get_dataloader()[1])"
      ],
      "metadata": {
        "colab": {
          "base_uri": "https://localhost:8080/"
        },
        "id": "6OAGnXjWrrtC",
        "outputId": "aedbed71-356e-445b-c925-53d7cb5806ea"
      },
      "execution_count": 17,
      "outputs": [
        {
          "output_type": "stream",
          "name": "stdout",
          "text": [
            "tensor([[-1.3147,  0.7387],\n",
            "        [ 0.1440,  0.7255],\n",
            "        [ 0.2668,  1.4983],\n",
            "        [-0.7530, -1.5150],\n",
            "        [-0.1774, -0.8184],\n",
            "        [-2.2493, -2.8079],\n",
            "        [ 0.3686,  0.2213],\n",
            "        [ 1.6447, -1.2799]]) \n",
            " tensor([[ 2.2353],\n",
            "        [ 4.9785],\n",
            "        [ 2.0221],\n",
            "        [ 3.2174],\n",
            "        [ 1.0880],\n",
            "        [ 2.9492],\n",
            "        [ 3.0800],\n",
            "        [-0.1181]])\n"
          ]
        }
      ]
    },
    {
      "cell_type": "code",
      "source": [
        "# this would generate same because there is only 8 examples and batch size is\n",
        "# 8 when we call next iter the same batch is repeated\n",
        "\n",
        "data = SyntheticRegressionData(w=torch.tensor([2, -3.4]), b=4.2, num_train=1, num_val=8, batch_size = 8)\n",
        "X, y = next(iter(data.val_dataloader()))\n",
        "print(X)\n",
        "print(y)\n",
        "X_, y_ = next(iter(data.val_dataloader()))\n",
        "print(X_)\n",
        "print(y_)"
      ],
      "metadata": {
        "id": "Kt3-FaU_tirk"
      },
      "execution_count": null,
      "outputs": []
    }
  ]
}